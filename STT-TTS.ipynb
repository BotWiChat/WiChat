{
 "cells": [
  {
   "cell_type": "code",
   "execution_count": 1,
   "id": "289e0828-909c-43dd-8e42-50dd38fe75b2",
   "metadata": {},
   "outputs": [
    {
     "ename": "SyntaxError",
     "evalue": "invalid syntax (1970499484.py, line 25)",
     "output_type": "error",
     "traceback": [
      "\u001b[1;36m  Cell \u001b[1;32mIn[1], line 25\u001b[1;36m\u001b[0m\n\u001b[1;33m    print(\"Transcript: {}\".format(result.alternatives.:inlineRefs{references=\"&#91;&#123;&quot;type&quot;&#58;&quot;inline_reference&quot;,&quot;start_index&quot;&#58;1362,&quot;end_index&quot;&#58;1365,&quot;number&quot;&#58;0,&quot;url&quot;&#58;&quot;https&#58;//www.pragnakalp.com/speech-recognition-speech-to-text-python-using-google-api-wit-ai-ibm-cmusphinx/&quot;,&quot;favicon&quot;&#58;&quot;https&#58;//imgs.search.brave.com/ldVXiG6xCYe0FFyPz48JtTYnOjFTjWVCUXmbThPPHPk/rs&#58;fit&#58;32&#58;32&#58;1&#58;0/g&#58;ce/aHR0cDovL2Zhdmlj/b25zLnNlYXJjaC5i/cmF2ZS5jb20vaWNv/bnMvZTFlOGJhZDRj/Yzc4ZDQwMjcwOTIx/YjU5N2ZkZjU0OGU4/MTY0OTlkODQzNzZh/MWUwOTQ2NWQ1ZDg4/OWNiN2MxZi93d3cu/cHJhZ25ha2FscC5j/b20v&quot;,&quot;snippet&quot;&#58;&quot;Speech&#32;Recognition&#32;–&#32;Speech&#32;to&#32;Text&#32;in&#32;Python&#32;using&#32;Google&#32;Cloud&#32;Speech&#32;API,&#32;Wit.AI,&#32;IBM&#32;Speech&#32;To&#32;Text&#32;and&#32;CMUSphinx&#32;(pocketsphinx)…&quot;&#125;&#93;\"}transcript))\u001b[0m\n\u001b[1;37m                                                      ^\u001b[0m\n\u001b[1;31mSyntaxError\u001b[0m\u001b[1;31m:\u001b[0m invalid syntax\n"
     ]
    }
   ],
   "source": [
    "from google.cloud import speech\n",
    "\n",
    "# Initialize the speech client\n",
    "client = speech.SpeechClient()\n",
    "\n",
    "# Specify the name of the audio file to be transcribed\n",
    "file_name = \"audiofile.wav\"\n",
    "\n",
    "# Open the audio file in read-binary mode and read its content\n",
    "with open(file_name, \"rb\") as audio_file:\n",
    "    audio_content = audio_file.read()\n",
    "\n",
    "# Prepare the audio content for recognition\n",
    "audio = speech.RecognitionAudio(content=audio_content)\n",
    "\n",
    "# Configure the recognition request settings\n",
    "config = speech.RecognitionConfig(\n",
    "    encoding=speech.RecognitionConfig.AudioEncoding.LINEAR16,\n",
    "    language_code=\"en-US\"\n",
    ")\n",
    "\n",
    "# Send the audio file for processing and print out the transcribed text\n",
    "response = client.recognize(config=config, audio=audio)\n",
    "for result in response.results:\n",
    "    print(\"Transcript: {}\".format(result.alternatives.:inlineRefs{references=\"&#91;&#123;&quot;type&quot;&#58;&quot;inline_reference&quot;,&quot;start_index&quot;&#58;1362,&quot;end_index&quot;&#58;1365,&quot;number&quot;&#58;0,&quot;url&quot;&#58;&quot;https&#58;//www.pragnakalp.com/speech-recognition-speech-to-text-python-using-google-api-wit-ai-ibm-cmusphinx/&quot;,&quot;favicon&quot;&#58;&quot;https&#58;//imgs.search.brave.com/ldVXiG6xCYe0FFyPz48JtTYnOjFTjWVCUXmbThPPHPk/rs&#58;fit&#58;32&#58;32&#58;1&#58;0/g&#58;ce/aHR0cDovL2Zhdmlj/b25zLnNlYXJjaC5i/cmF2ZS5jb20vaWNv/bnMvZTFlOGJhZDRj/Yzc4ZDQwMjcwOTIx/YjU5N2ZkZjU0OGU4/MTY0OTlkODQzNzZh/MWUwOTQ2NWQ1ZDg4/OWNiN2MxZi93d3cu/cHJhZ25ha2FscC5j/b20v&quot;,&quot;snippet&quot;&#58;&quot;Speech&#32;Recognition&#32;–&#32;Speech&#32;to&#32;Text&#32;in&#32;Python&#32;using&#32;Google&#32;Cloud&#32;Speech&#32;API,&#32;Wit.AI,&#32;IBM&#32;Speech&#32;To&#32;Text&#32;and&#32;CMUSphinx&#32;(pocketsphinx)…&quot;&#125;&#93;\"}transcript))"
   ]
  },
  {
   "cell_type": "code",
   "execution_count": 48,
   "id": "7ab5463b-2e94-4c46-9351-f0940cc38646",
   "metadata": {},
   "outputs": [
    {
     "data": {
      "text/html": [
       "\n",
       "                <audio  controls=\"controls\" autoplay=\"autoplay\">\n",
       "                    <source src=\"data:audio/wav;base64,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\" type=\"audio/wav\" />\n",
       "                    Your browser does not support the audio element.\n",
       "                </audio>\n",
       "              "
      ],
      "text/plain": [
       "<IPython.lib.display.Audio object>"
      ]
     },
     "execution_count": 48,
     "metadata": {},
     "output_type": "execute_result"
    }
   ],
   "source": [
    "from gtts import gTTS\n",
    "from IPython.display import Audio\n",
    "\n",
    "# Provide the string to convert to speech\n",
    "tts = gTTS('How was your day today?')\n",
    "\n",
    "# Save the string converted to speech as a .wav file\n",
    "tts.save('response.wav')\n",
    "\n",
    "# Play the sound automatically\n",
    "sound_file = 'response.wav'\n",
    "Audio(sound_file, autoplay=True)"
   ]
  },
  {
   "cell_type": "code",
   "execution_count": 13,
   "id": "bd564c50-768b-4309-a76a-86e4449cb103",
   "metadata": {},
   "outputs": [
    {
     "name": "stdout",
     "output_type": "stream",
     "text": [
      "Speak anything:\n",
      "Google Speech Recognition could not understand audio\n"
     ]
    }
   ],
   "source": [
    "import speech_recognition as sr\n",
    "\n",
    "# Initialize recognizer class (for recognizing the speech)\n",
    "r = sr.Recognizer()\n",
    "\n",
    "# Reading Microphone as source\n",
    "with sr.Microphone() as source:\n",
    "    print(\"Speak anything:\")\n",
    "    # Adjust for ambient noise\n",
    "    r.adjust_for_ambient_noise(source)\n",
    "    # Record audio\n",
    "    audio = r.listen(source)\n",
    "# Speech recognition using Google Speech Recognition\n",
    "try:\n",
    "    recog = r.recognize_google(audio, language='en-US')\n",
    "except sr.UnknownValueError:\n",
    "    print(\"Google Speech Recognition could not understand audio\")\n",
    "except sr.RequestError as e:\n",
    "    print(\n",
    "        \"Could not request results from Google Speech Recognition service; {0}\".format(e))"
   ]
  },
  {
   "cell_type": "code",
   "execution_count": null,
   "id": "b152f6c3-0ba2-47f9-b6d4-7ad98eee9c94",
   "metadata": {},
   "outputs": [],
   "source": []
  },
  {
   "cell_type": "code",
   "execution_count": null,
   "id": "fbec69d9-3257-4c97-8cda-030b60adf121",
   "metadata": {},
   "outputs": [],
   "source": []
  },
  {
   "cell_type": "code",
   "execution_count": null,
   "id": "8ac41a81-2284-4e20-9968-9df737cafef6",
   "metadata": {},
   "outputs": [],
   "source": []
  },
  {
   "cell_type": "code",
   "execution_count": 20,
   "id": "886ebbd9-b6bf-443a-bb0f-25cc768e00b2",
   "metadata": {},
   "outputs": [
    {
     "name": "stderr",
     "output_type": "stream",
     "text": [
      "[nltk_data] Downloading package punkt to C:\\Users\\Sharon-\n",
      "[nltk_data]     Rose\\AppData\\Roaming\\nltk_data...\n",
      "[nltk_data]   Package punkt is already up-to-date!\n",
      "[nltk_data] Downloading package wordnet to C:\\Users\\Sharon-\n",
      "[nltk_data]     Rose\\AppData\\Roaming\\nltk_data...\n",
      "[nltk_data]   Package wordnet is already up-to-date!\n"
     ]
    },
    {
     "data": {
      "text/plain": [
       "True"
      ]
     },
     "execution_count": 20,
     "metadata": {},
     "output_type": "execute_result"
    }
   ],
   "source": [
    "import io\n",
    "import random\n",
    "import string\n",
    "import warnings\n",
    "import numpy as np\n",
    "from sklearn.feature_extraction.text import TfidfVectorizer\n",
    "from sklearn.metrics.pairwise import cosine_similarity\n",
    "import warnings\n",
    "from gtts import gTTS\n",
    "import os\n",
    "warnings.filterwarnings('ignore')\n",
    "import speech_recognition as sr \n",
    "import nltk\n",
    "from nltk.stem import WordNetLemmatizer\n",
    "#for downloading package files can be commented after First run\n",
    "nltk.download('popular', quiet=True)\n",
    "nltk.download('nps_chat',quiet=True)\n",
    "nltk.download('punkt') \n",
    "nltk.download('wordnet')"
   ]
  },
  {
   "cell_type": "code",
   "execution_count": 22,
   "id": "cb0bd485-43ab-441f-8587-b520afc522e3",
   "metadata": {},
   "outputs": [],
   "source": []
  },
  {
   "cell_type": "code",
   "execution_count": 24,
   "id": "035a29aa-3a51-4d51-be15-5f224334ba21",
   "metadata": {},
   "outputs": [],
   "source": []
  },
  {
   "cell_type": "code",
   "execution_count": null,
   "id": "def77aec-3937-4265-8049-5d642194edfd",
   "metadata": {},
   "outputs": [],
   "source": []
  },
  {
   "cell_type": "code",
   "execution_count": 43,
   "id": "125e8052-3a81-4fc4-92fb-67dc9452d14b",
   "metadata": {},
   "outputs": [],
   "source": [
    "# Generating response and processing \n",
    "def response(user_response):\n",
    "    robo_response=''\n",
    "    sent_tokens.append(user_response)\n",
    "    TfidfVec = TfidfVectorizer(tokenizer=LemNormalize, stop_words='english')\n",
    "    tfidf = TfidfVec.fit_transform(sent_tokens)\n",
    "    vals = cosine_similarity(tfidf[-1], tfidf)\n",
    "    idx=vals.argsort()[0][-2]\n",
    "    flat = vals.flatten()\n",
    "    flat.sort()\n",
    "    req_tfidf = flat[-2]\n",
    "    if(req_tfidf==0):\n",
    "        robo_response=robo_response+\"I am sorry! I don't understand you\"\n",
    "        return robo_response\n",
    "    else:\n",
    "        robo_response = robo_response+sent_tokens[idx]\n",
    "        return robo_response"
   ]
  },
  {
   "cell_type": "code",
   "execution_count": 40,
   "id": "801e7255-1677-428a-87ff-b95a2a6cd4a7",
   "metadata": {},
   "outputs": [
    {
     "ename": "gTTSError",
     "evalue": "Failed to connect. Probable cause: Host 'https://translate.google.en/' is not reachable",
     "output_type": "error",
     "traceback": [
      "\u001b[1;31m---------------------------------------------------------------------------\u001b[0m",
      "\u001b[1;31mgaierror\u001b[0m                                  Traceback (most recent call last)",
      "File \u001b[1;32m~\\anaconda3\\Lib\\site-packages\\urllib3\\connection.py:199\u001b[0m, in \u001b[0;36mHTTPConnection._new_conn\u001b[1;34m(self)\u001b[0m\n\u001b[0;32m    198\u001b[0m \u001b[38;5;28;01mtry\u001b[39;00m:\n\u001b[1;32m--> 199\u001b[0m     sock \u001b[38;5;241m=\u001b[39m connection\u001b[38;5;241m.\u001b[39mcreate_connection(\n\u001b[0;32m    200\u001b[0m         (\u001b[38;5;28mself\u001b[39m\u001b[38;5;241m.\u001b[39m_dns_host, \u001b[38;5;28mself\u001b[39m\u001b[38;5;241m.\u001b[39mport),\n\u001b[0;32m    201\u001b[0m         \u001b[38;5;28mself\u001b[39m\u001b[38;5;241m.\u001b[39mtimeout,\n\u001b[0;32m    202\u001b[0m         source_address\u001b[38;5;241m=\u001b[39m\u001b[38;5;28mself\u001b[39m\u001b[38;5;241m.\u001b[39msource_address,\n\u001b[0;32m    203\u001b[0m         socket_options\u001b[38;5;241m=\u001b[39m\u001b[38;5;28mself\u001b[39m\u001b[38;5;241m.\u001b[39msocket_options,\n\u001b[0;32m    204\u001b[0m     )\n\u001b[0;32m    205\u001b[0m \u001b[38;5;28;01mexcept\u001b[39;00m socket\u001b[38;5;241m.\u001b[39mgaierror \u001b[38;5;28;01mas\u001b[39;00m e:\n",
      "File \u001b[1;32m~\\anaconda3\\Lib\\site-packages\\urllib3\\util\\connection.py:60\u001b[0m, in \u001b[0;36mcreate_connection\u001b[1;34m(address, timeout, source_address, socket_options)\u001b[0m\n\u001b[0;32m     58\u001b[0m     \u001b[38;5;28;01mraise\u001b[39;00m LocationParseError(\u001b[38;5;124mf\u001b[39m\u001b[38;5;124m\"\u001b[39m\u001b[38;5;124m'\u001b[39m\u001b[38;5;132;01m{\u001b[39;00mhost\u001b[38;5;132;01m}\u001b[39;00m\u001b[38;5;124m'\u001b[39m\u001b[38;5;124m, label empty or too long\u001b[39m\u001b[38;5;124m\"\u001b[39m) \u001b[38;5;28;01mfrom\u001b[39;00m \u001b[38;5;28;01mNone\u001b[39;00m\n\u001b[1;32m---> 60\u001b[0m \u001b[38;5;28;01mfor\u001b[39;00m res \u001b[38;5;129;01min\u001b[39;00m socket\u001b[38;5;241m.\u001b[39mgetaddrinfo(host, port, family, socket\u001b[38;5;241m.\u001b[39mSOCK_STREAM):\n\u001b[0;32m     61\u001b[0m     af, socktype, proto, canonname, sa \u001b[38;5;241m=\u001b[39m res\n",
      "File \u001b[1;32m~\\anaconda3\\Lib\\socket.py:976\u001b[0m, in \u001b[0;36mgetaddrinfo\u001b[1;34m(host, port, family, type, proto, flags)\u001b[0m\n\u001b[0;32m    975\u001b[0m addrlist \u001b[38;5;241m=\u001b[39m []\n\u001b[1;32m--> 976\u001b[0m \u001b[38;5;28;01mfor\u001b[39;00m res \u001b[38;5;129;01min\u001b[39;00m _socket\u001b[38;5;241m.\u001b[39mgetaddrinfo(host, port, family, \u001b[38;5;28mtype\u001b[39m, proto, flags):\n\u001b[0;32m    977\u001b[0m     af, socktype, proto, canonname, sa \u001b[38;5;241m=\u001b[39m res\n",
      "\u001b[1;31mgaierror\u001b[0m: [Errno 11001] getaddrinfo failed",
      "\nThe above exception was the direct cause of the following exception:\n",
      "\u001b[1;31mNameResolutionError\u001b[0m                       Traceback (most recent call last)",
      "File \u001b[1;32m~\\anaconda3\\Lib\\site-packages\\urllib3\\connectionpool.py:789\u001b[0m, in \u001b[0;36mHTTPConnectionPool.urlopen\u001b[1;34m(self, method, url, body, headers, retries, redirect, assert_same_host, timeout, pool_timeout, release_conn, chunked, body_pos, preload_content, decode_content, **response_kw)\u001b[0m\n\u001b[0;32m    788\u001b[0m \u001b[38;5;66;03m# Make the request on the HTTPConnection object\u001b[39;00m\n\u001b[1;32m--> 789\u001b[0m response \u001b[38;5;241m=\u001b[39m \u001b[38;5;28mself\u001b[39m\u001b[38;5;241m.\u001b[39m_make_request(\n\u001b[0;32m    790\u001b[0m     conn,\n\u001b[0;32m    791\u001b[0m     method,\n\u001b[0;32m    792\u001b[0m     url,\n\u001b[0;32m    793\u001b[0m     timeout\u001b[38;5;241m=\u001b[39mtimeout_obj,\n\u001b[0;32m    794\u001b[0m     body\u001b[38;5;241m=\u001b[39mbody,\n\u001b[0;32m    795\u001b[0m     headers\u001b[38;5;241m=\u001b[39mheaders,\n\u001b[0;32m    796\u001b[0m     chunked\u001b[38;5;241m=\u001b[39mchunked,\n\u001b[0;32m    797\u001b[0m     retries\u001b[38;5;241m=\u001b[39mretries,\n\u001b[0;32m    798\u001b[0m     response_conn\u001b[38;5;241m=\u001b[39mresponse_conn,\n\u001b[0;32m    799\u001b[0m     preload_content\u001b[38;5;241m=\u001b[39mpreload_content,\n\u001b[0;32m    800\u001b[0m     decode_content\u001b[38;5;241m=\u001b[39mdecode_content,\n\u001b[0;32m    801\u001b[0m     \u001b[38;5;241m*\u001b[39m\u001b[38;5;241m*\u001b[39mresponse_kw,\n\u001b[0;32m    802\u001b[0m )\n\u001b[0;32m    804\u001b[0m \u001b[38;5;66;03m# Everything went great!\u001b[39;00m\n",
      "File \u001b[1;32m~\\anaconda3\\Lib\\site-packages\\urllib3\\connectionpool.py:490\u001b[0m, in \u001b[0;36mHTTPConnectionPool._make_request\u001b[1;34m(self, conn, method, url, body, headers, retries, timeout, chunked, response_conn, preload_content, decode_content, enforce_content_length)\u001b[0m\n\u001b[0;32m    489\u001b[0m         new_e \u001b[38;5;241m=\u001b[39m _wrap_proxy_error(new_e, conn\u001b[38;5;241m.\u001b[39mproxy\u001b[38;5;241m.\u001b[39mscheme)\n\u001b[1;32m--> 490\u001b[0m     \u001b[38;5;28;01mraise\u001b[39;00m new_e\n\u001b[0;32m    492\u001b[0m \u001b[38;5;66;03m# conn.request() calls http.client.*.request, not the method in\u001b[39;00m\n\u001b[0;32m    493\u001b[0m \u001b[38;5;66;03m# urllib3.request. It also calls makefile (recv) on the socket.\u001b[39;00m\n",
      "File \u001b[1;32m~\\anaconda3\\Lib\\site-packages\\urllib3\\connectionpool.py:466\u001b[0m, in \u001b[0;36mHTTPConnectionPool._make_request\u001b[1;34m(self, conn, method, url, body, headers, retries, timeout, chunked, response_conn, preload_content, decode_content, enforce_content_length)\u001b[0m\n\u001b[0;32m    465\u001b[0m \u001b[38;5;28;01mtry\u001b[39;00m:\n\u001b[1;32m--> 466\u001b[0m     \u001b[38;5;28mself\u001b[39m\u001b[38;5;241m.\u001b[39m_validate_conn(conn)\n\u001b[0;32m    467\u001b[0m \u001b[38;5;28;01mexcept\u001b[39;00m (SocketTimeout, BaseSSLError) \u001b[38;5;28;01mas\u001b[39;00m e:\n",
      "File \u001b[1;32m~\\anaconda3\\Lib\\site-packages\\urllib3\\connectionpool.py:1095\u001b[0m, in \u001b[0;36mHTTPSConnectionPool._validate_conn\u001b[1;34m(self, conn)\u001b[0m\n\u001b[0;32m   1094\u001b[0m \u001b[38;5;28;01mif\u001b[39;00m conn\u001b[38;5;241m.\u001b[39mis_closed:\n\u001b[1;32m-> 1095\u001b[0m     conn\u001b[38;5;241m.\u001b[39mconnect()\n\u001b[0;32m   1097\u001b[0m \u001b[38;5;66;03m# TODO revise this, see https://github.com/urllib3/urllib3/issues/2791\u001b[39;00m\n",
      "File \u001b[1;32m~\\anaconda3\\Lib\\site-packages\\urllib3\\connection.py:693\u001b[0m, in \u001b[0;36mHTTPSConnection.connect\u001b[1;34m(self)\u001b[0m\n\u001b[0;32m    692\u001b[0m sock: socket\u001b[38;5;241m.\u001b[39msocket \u001b[38;5;241m|\u001b[39m ssl\u001b[38;5;241m.\u001b[39mSSLSocket\n\u001b[1;32m--> 693\u001b[0m \u001b[38;5;28mself\u001b[39m\u001b[38;5;241m.\u001b[39msock \u001b[38;5;241m=\u001b[39m sock \u001b[38;5;241m=\u001b[39m \u001b[38;5;28mself\u001b[39m\u001b[38;5;241m.\u001b[39m_new_conn()\n\u001b[0;32m    694\u001b[0m server_hostname: \u001b[38;5;28mstr\u001b[39m \u001b[38;5;241m=\u001b[39m \u001b[38;5;28mself\u001b[39m\u001b[38;5;241m.\u001b[39mhost\n",
      "File \u001b[1;32m~\\anaconda3\\Lib\\site-packages\\urllib3\\connection.py:206\u001b[0m, in \u001b[0;36mHTTPConnection._new_conn\u001b[1;34m(self)\u001b[0m\n\u001b[0;32m    205\u001b[0m \u001b[38;5;28;01mexcept\u001b[39;00m socket\u001b[38;5;241m.\u001b[39mgaierror \u001b[38;5;28;01mas\u001b[39;00m e:\n\u001b[1;32m--> 206\u001b[0m     \u001b[38;5;28;01mraise\u001b[39;00m NameResolutionError(\u001b[38;5;28mself\u001b[39m\u001b[38;5;241m.\u001b[39mhost, \u001b[38;5;28mself\u001b[39m, e) \u001b[38;5;28;01mfrom\u001b[39;00m \u001b[38;5;21;01me\u001b[39;00m\n\u001b[0;32m    207\u001b[0m \u001b[38;5;28;01mexcept\u001b[39;00m SocketTimeout \u001b[38;5;28;01mas\u001b[39;00m e:\n",
      "\u001b[1;31mNameResolutionError\u001b[0m: <urllib3.connection.HTTPSConnection object at 0x00000136C0889F70>: Failed to resolve 'translate.google.en' ([Errno 11001] getaddrinfo failed)",
      "\nThe above exception was the direct cause of the following exception:\n",
      "\u001b[1;31mMaxRetryError\u001b[0m                             Traceback (most recent call last)",
      "File \u001b[1;32m~\\anaconda3\\Lib\\site-packages\\requests\\adapters.py:667\u001b[0m, in \u001b[0;36mHTTPAdapter.send\u001b[1;34m(self, request, stream, timeout, verify, cert, proxies)\u001b[0m\n\u001b[0;32m    666\u001b[0m \u001b[38;5;28;01mtry\u001b[39;00m:\n\u001b[1;32m--> 667\u001b[0m     resp \u001b[38;5;241m=\u001b[39m conn\u001b[38;5;241m.\u001b[39murlopen(\n\u001b[0;32m    668\u001b[0m         method\u001b[38;5;241m=\u001b[39mrequest\u001b[38;5;241m.\u001b[39mmethod,\n\u001b[0;32m    669\u001b[0m         url\u001b[38;5;241m=\u001b[39murl,\n\u001b[0;32m    670\u001b[0m         body\u001b[38;5;241m=\u001b[39mrequest\u001b[38;5;241m.\u001b[39mbody,\n\u001b[0;32m    671\u001b[0m         headers\u001b[38;5;241m=\u001b[39mrequest\u001b[38;5;241m.\u001b[39mheaders,\n\u001b[0;32m    672\u001b[0m         redirect\u001b[38;5;241m=\u001b[39m\u001b[38;5;28;01mFalse\u001b[39;00m,\n\u001b[0;32m    673\u001b[0m         assert_same_host\u001b[38;5;241m=\u001b[39m\u001b[38;5;28;01mFalse\u001b[39;00m,\n\u001b[0;32m    674\u001b[0m         preload_content\u001b[38;5;241m=\u001b[39m\u001b[38;5;28;01mFalse\u001b[39;00m,\n\u001b[0;32m    675\u001b[0m         decode_content\u001b[38;5;241m=\u001b[39m\u001b[38;5;28;01mFalse\u001b[39;00m,\n\u001b[0;32m    676\u001b[0m         retries\u001b[38;5;241m=\u001b[39m\u001b[38;5;28mself\u001b[39m\u001b[38;5;241m.\u001b[39mmax_retries,\n\u001b[0;32m    677\u001b[0m         timeout\u001b[38;5;241m=\u001b[39mtimeout,\n\u001b[0;32m    678\u001b[0m         chunked\u001b[38;5;241m=\u001b[39mchunked,\n\u001b[0;32m    679\u001b[0m     )\n\u001b[0;32m    681\u001b[0m \u001b[38;5;28;01mexcept\u001b[39;00m (ProtocolError, \u001b[38;5;167;01mOSError\u001b[39;00m) \u001b[38;5;28;01mas\u001b[39;00m err:\n",
      "File \u001b[1;32m~\\anaconda3\\Lib\\site-packages\\urllib3\\connectionpool.py:843\u001b[0m, in \u001b[0;36mHTTPConnectionPool.urlopen\u001b[1;34m(self, method, url, body, headers, retries, redirect, assert_same_host, timeout, pool_timeout, release_conn, chunked, body_pos, preload_content, decode_content, **response_kw)\u001b[0m\n\u001b[0;32m    841\u001b[0m     new_e \u001b[38;5;241m=\u001b[39m ProtocolError(\u001b[38;5;124m\"\u001b[39m\u001b[38;5;124mConnection aborted.\u001b[39m\u001b[38;5;124m\"\u001b[39m, new_e)\n\u001b[1;32m--> 843\u001b[0m retries \u001b[38;5;241m=\u001b[39m retries\u001b[38;5;241m.\u001b[39mincrement(\n\u001b[0;32m    844\u001b[0m     method, url, error\u001b[38;5;241m=\u001b[39mnew_e, _pool\u001b[38;5;241m=\u001b[39m\u001b[38;5;28mself\u001b[39m, _stacktrace\u001b[38;5;241m=\u001b[39msys\u001b[38;5;241m.\u001b[39mexc_info()[\u001b[38;5;241m2\u001b[39m]\n\u001b[0;32m    845\u001b[0m )\n\u001b[0;32m    846\u001b[0m retries\u001b[38;5;241m.\u001b[39msleep()\n",
      "File \u001b[1;32m~\\anaconda3\\Lib\\site-packages\\urllib3\\util\\retry.py:519\u001b[0m, in \u001b[0;36mRetry.increment\u001b[1;34m(self, method, url, response, error, _pool, _stacktrace)\u001b[0m\n\u001b[0;32m    518\u001b[0m     reason \u001b[38;5;241m=\u001b[39m error \u001b[38;5;129;01mor\u001b[39;00m ResponseError(cause)\n\u001b[1;32m--> 519\u001b[0m     \u001b[38;5;28;01mraise\u001b[39;00m MaxRetryError(_pool, url, reason) \u001b[38;5;28;01mfrom\u001b[39;00m \u001b[38;5;21;01mreason\u001b[39;00m  \u001b[38;5;66;03m# type: ignore[arg-type]\u001b[39;00m\n\u001b[0;32m    521\u001b[0m log\u001b[38;5;241m.\u001b[39mdebug(\u001b[38;5;124m\"\u001b[39m\u001b[38;5;124mIncremented Retry for (url=\u001b[39m\u001b[38;5;124m'\u001b[39m\u001b[38;5;132;01m%s\u001b[39;00m\u001b[38;5;124m'\u001b[39m\u001b[38;5;124m): \u001b[39m\u001b[38;5;132;01m%r\u001b[39;00m\u001b[38;5;124m\"\u001b[39m, url, new_retry)\n",
      "\u001b[1;31mMaxRetryError\u001b[0m: HTTPSConnectionPool(host='translate.google.en', port=443): Max retries exceeded with url: /_/TranslateWebserverUi/data/batchexecute (Caused by NameResolutionError(\"<urllib3.connection.HTTPSConnection object at 0x00000136C0889F70>: Failed to resolve 'translate.google.en' ([Errno 11001] getaddrinfo failed)\"))",
      "\nDuring handling of the above exception, another exception occurred:\n",
      "\u001b[1;31mConnectionError\u001b[0m                           Traceback (most recent call last)",
      "File \u001b[1;32m~\\anaconda3\\Lib\\site-packages\\gtts\\tts.py:268\u001b[0m, in \u001b[0;36mgTTS.stream\u001b[1;34m(self)\u001b[0m\n\u001b[0;32m    266\u001b[0m \u001b[38;5;28;01mwith\u001b[39;00m requests\u001b[38;5;241m.\u001b[39mSession() \u001b[38;5;28;01mas\u001b[39;00m s:\n\u001b[0;32m    267\u001b[0m     \u001b[38;5;66;03m# Send request\u001b[39;00m\n\u001b[1;32m--> 268\u001b[0m     r \u001b[38;5;241m=\u001b[39m s\u001b[38;5;241m.\u001b[39msend(\n\u001b[0;32m    269\u001b[0m         request\u001b[38;5;241m=\u001b[39mpr,\n\u001b[0;32m    270\u001b[0m         verify\u001b[38;5;241m=\u001b[39m\u001b[38;5;28;01mFalse\u001b[39;00m,\n\u001b[0;32m    271\u001b[0m         proxies\u001b[38;5;241m=\u001b[39murllib\u001b[38;5;241m.\u001b[39mrequest\u001b[38;5;241m.\u001b[39mgetproxies(),\n\u001b[0;32m    272\u001b[0m         timeout\u001b[38;5;241m=\u001b[39m\u001b[38;5;28mself\u001b[39m\u001b[38;5;241m.\u001b[39mtimeout,\n\u001b[0;32m    273\u001b[0m     )\n\u001b[0;32m    275\u001b[0m log\u001b[38;5;241m.\u001b[39mdebug(\u001b[38;5;124m\"\u001b[39m\u001b[38;5;124mheaders-\u001b[39m\u001b[38;5;132;01m%i\u001b[39;00m\u001b[38;5;124m: \u001b[39m\u001b[38;5;132;01m%s\u001b[39;00m\u001b[38;5;124m\"\u001b[39m, idx, r\u001b[38;5;241m.\u001b[39mrequest\u001b[38;5;241m.\u001b[39mheaders)\n",
      "File \u001b[1;32m~\\anaconda3\\Lib\\site-packages\\requests\\sessions.py:703\u001b[0m, in \u001b[0;36mSession.send\u001b[1;34m(self, request, **kwargs)\u001b[0m\n\u001b[0;32m    702\u001b[0m \u001b[38;5;66;03m# Send the request\u001b[39;00m\n\u001b[1;32m--> 703\u001b[0m r \u001b[38;5;241m=\u001b[39m adapter\u001b[38;5;241m.\u001b[39msend(request, \u001b[38;5;241m*\u001b[39m\u001b[38;5;241m*\u001b[39mkwargs)\n\u001b[0;32m    705\u001b[0m \u001b[38;5;66;03m# Total elapsed time of the request (approximately)\u001b[39;00m\n",
      "File \u001b[1;32m~\\anaconda3\\Lib\\site-packages\\requests\\adapters.py:700\u001b[0m, in \u001b[0;36mHTTPAdapter.send\u001b[1;34m(self, request, stream, timeout, verify, cert, proxies)\u001b[0m\n\u001b[0;32m    698\u001b[0m         \u001b[38;5;28;01mraise\u001b[39;00m SSLError(e, request\u001b[38;5;241m=\u001b[39mrequest)\n\u001b[1;32m--> 700\u001b[0m     \u001b[38;5;28;01mraise\u001b[39;00m \u001b[38;5;167;01mConnectionError\u001b[39;00m(e, request\u001b[38;5;241m=\u001b[39mrequest)\n\u001b[0;32m    702\u001b[0m \u001b[38;5;28;01mexcept\u001b[39;00m ClosedPoolError \u001b[38;5;28;01mas\u001b[39;00m e:\n",
      "\u001b[1;31mConnectionError\u001b[0m: HTTPSConnectionPool(host='translate.google.en', port=443): Max retries exceeded with url: /_/TranslateWebserverUi/data/batchexecute (Caused by NameResolutionError(\"<urllib3.connection.HTTPSConnection object at 0x00000136C0889F70>: Failed to resolve 'translate.google.en' ([Errno 11001] getaddrinfo failed)\"))",
      "\nDuring handling of the above exception, another exception occurred:\n",
      "\u001b[1;31mgTTSError\u001b[0m                                 Traceback (most recent call last)",
      "Cell \u001b[1;32mIn[40], line 6\u001b[0m\n\u001b[0;32m      4\u001b[0m fst\u001b[38;5;241m=\u001b[39m\u001b[38;5;124m\"\u001b[39m\u001b[38;5;124mMy name is Jarvis. I will answer your queries about Science. If you want to exit, say Bye\u001b[39m\u001b[38;5;124m\"\u001b[39m\n\u001b[0;32m      5\u001b[0m tts \u001b[38;5;241m=\u001b[39m gTTS(fst, \u001b[38;5;124m'\u001b[39m\u001b[38;5;124men\u001b[39m\u001b[38;5;124m'\u001b[39m)\n\u001b[1;32m----> 6\u001b[0m tts\u001b[38;5;241m.\u001b[39msave(file)\n\u001b[0;32m      7\u001b[0m os\u001b[38;5;241m.\u001b[39msystem(\u001b[38;5;124m\"\u001b[39m\u001b[38;5;124mmpg123 \u001b[39m\u001b[38;5;124m\"\u001b[39m \u001b[38;5;241m+\u001b[39m file )\n\u001b[0;32m      8\u001b[0m r \u001b[38;5;241m=\u001b[39m sr\u001b[38;5;241m.\u001b[39mRecognizer()\n",
      "File \u001b[1;32m~\\anaconda3\\Lib\\site-packages\\gtts\\tts.py:335\u001b[0m, in \u001b[0;36mgTTS.save\u001b[1;34m(self, savefile)\u001b[0m\n\u001b[0;32m    325\u001b[0m \u001b[38;5;250m\u001b[39m\u001b[38;5;124;03m\"\"\"Do the TTS API request and write result to file.\u001b[39;00m\n\u001b[0;32m    326\u001b[0m \n\u001b[0;32m    327\u001b[0m \u001b[38;5;124;03mArgs:\u001b[39;00m\n\u001b[1;32m   (...)\u001b[0m\n\u001b[0;32m    332\u001b[0m \n\u001b[0;32m    333\u001b[0m \u001b[38;5;124;03m\"\"\"\u001b[39;00m\n\u001b[0;32m    334\u001b[0m \u001b[38;5;28;01mwith\u001b[39;00m \u001b[38;5;28mopen\u001b[39m(\u001b[38;5;28mstr\u001b[39m(savefile), \u001b[38;5;124m\"\u001b[39m\u001b[38;5;124mwb\u001b[39m\u001b[38;5;124m\"\u001b[39m) \u001b[38;5;28;01mas\u001b[39;00m f:\n\u001b[1;32m--> 335\u001b[0m     \u001b[38;5;28mself\u001b[39m\u001b[38;5;241m.\u001b[39mwrite_to_fp(f)\n\u001b[0;32m    336\u001b[0m     f\u001b[38;5;241m.\u001b[39mflush()\n\u001b[0;32m    337\u001b[0m     log\u001b[38;5;241m.\u001b[39mdebug(\u001b[38;5;124m\"\u001b[39m\u001b[38;5;124mSaved to \u001b[39m\u001b[38;5;132;01m%s\u001b[39;00m\u001b[38;5;124m\"\u001b[39m, savefile)\n",
      "File \u001b[1;32m~\\anaconda3\\Lib\\site-packages\\gtts\\tts.py:316\u001b[0m, in \u001b[0;36mgTTS.write_to_fp\u001b[1;34m(self, fp)\u001b[0m\n\u001b[0;32m    304\u001b[0m \u001b[38;5;250m\u001b[39m\u001b[38;5;124;03m\"\"\"Do the TTS API request(s) and write bytes to a file-like object.\u001b[39;00m\n\u001b[0;32m    305\u001b[0m \n\u001b[0;32m    306\u001b[0m \u001b[38;5;124;03mArgs:\u001b[39;00m\n\u001b[1;32m   (...)\u001b[0m\n\u001b[0;32m    312\u001b[0m \n\u001b[0;32m    313\u001b[0m \u001b[38;5;124;03m\"\"\"\u001b[39;00m\n\u001b[0;32m    315\u001b[0m \u001b[38;5;28;01mtry\u001b[39;00m:\n\u001b[1;32m--> 316\u001b[0m     \u001b[38;5;28;01mfor\u001b[39;00m idx, decoded \u001b[38;5;129;01min\u001b[39;00m \u001b[38;5;28menumerate\u001b[39m(\u001b[38;5;28mself\u001b[39m\u001b[38;5;241m.\u001b[39mstream()):\n\u001b[0;32m    317\u001b[0m         fp\u001b[38;5;241m.\u001b[39mwrite(decoded)\n\u001b[0;32m    318\u001b[0m         log\u001b[38;5;241m.\u001b[39mdebug(\u001b[38;5;124m\"\u001b[39m\u001b[38;5;124mpart-\u001b[39m\u001b[38;5;132;01m%i\u001b[39;00m\u001b[38;5;124m written to \u001b[39m\u001b[38;5;132;01m%s\u001b[39;00m\u001b[38;5;124m\"\u001b[39m, idx, fp)\n",
      "File \u001b[1;32m~\\anaconda3\\Lib\\site-packages\\gtts\\tts.py:287\u001b[0m, in \u001b[0;36mgTTS.stream\u001b[1;34m(self)\u001b[0m\n\u001b[0;32m    284\u001b[0m \u001b[38;5;28;01mexcept\u001b[39;00m requests\u001b[38;5;241m.\u001b[39mexceptions\u001b[38;5;241m.\u001b[39mRequestException \u001b[38;5;28;01mas\u001b[39;00m e:  \u001b[38;5;66;03m# pragma: no cover\u001b[39;00m\n\u001b[0;32m    285\u001b[0m     \u001b[38;5;66;03m# Request failed\u001b[39;00m\n\u001b[0;32m    286\u001b[0m     log\u001b[38;5;241m.\u001b[39mdebug(\u001b[38;5;28mstr\u001b[39m(e))\n\u001b[1;32m--> 287\u001b[0m     \u001b[38;5;28;01mraise\u001b[39;00m gTTSError(tts\u001b[38;5;241m=\u001b[39m\u001b[38;5;28mself\u001b[39m)\n\u001b[0;32m    289\u001b[0m \u001b[38;5;66;03m# Write\u001b[39;00m\n\u001b[0;32m    290\u001b[0m \u001b[38;5;28;01mfor\u001b[39;00m line \u001b[38;5;129;01min\u001b[39;00m r\u001b[38;5;241m.\u001b[39miter_lines(chunk_size\u001b[38;5;241m=\u001b[39m\u001b[38;5;241m1024\u001b[39m):\n",
      "\u001b[1;31mgTTSError\u001b[0m: Failed to connect. Probable cause: Host 'https://translate.google.en/' is not reachable"
     ]
    }
   ],
   "source": [
    "#Recording voice input using microphone \n",
    "file = \"file.mp3\"\n",
    "flag=True\n",
    "fst=\"My name is Jarvis. I will answer your queries about Science. If you want to exit, say Bye\"\n",
    "tts = gTTS(fst, 'en')\n",
    "tts.save(file)\n",
    "os.system(\"mpg123 \" + file )\n",
    "r = sr.Recognizer()\n",
    "prYellow(fst)"
   ]
  },
  {
   "cell_type": "code",
   "execution_count": 38,
   "id": "e4afd68f-22a1-4cc4-b9fd-f17ecde82ecf",
   "metadata": {},
   "outputs": [
    {
     "ename": "NameError",
     "evalue": "name 'prYellow' is not defined",
     "output_type": "error",
     "traceback": [
      "\u001b[1;31m---------------------------------------------------------------------------\u001b[0m",
      "\u001b[1;31mUnknownValueError\u001b[0m                         Traceback (most recent call last)",
      "Cell \u001b[1;32mIn[38], line 5\u001b[0m\n\u001b[0;32m      4\u001b[0m \u001b[38;5;28;01mtry\u001b[39;00m:\n\u001b[1;32m----> 5\u001b[0m     user_response \u001b[38;5;241m=\u001b[39m \u001b[38;5;28mformat\u001b[39m(r\u001b[38;5;241m.\u001b[39mrecognize_google(audio))\n\u001b[0;32m      6\u001b[0m     \u001b[38;5;28mprint\u001b[39m(\u001b[38;5;124m\"\u001b[39m\u001b[38;5;130;01m\\033\u001b[39;00m\u001b[38;5;124m[91m \u001b[39m\u001b[38;5;132;01m{}\u001b[39;00m\u001b[38;5;130;01m\\033\u001b[39;00m\u001b[38;5;124m[00m\u001b[39m\u001b[38;5;124m\"\u001b[39m \u001b[38;5;241m.\u001b[39mformat(\u001b[38;5;124m\"\u001b[39m\u001b[38;5;124mYOU SAID : \u001b[39m\u001b[38;5;124m\"\u001b[39m\u001b[38;5;241m+\u001b[39muser_response))\n",
      "File \u001b[1;32m~\\anaconda3\\Lib\\site-packages\\speech_recognition\\recognizers\\google.py:262\u001b[0m, in \u001b[0;36mrecognize_legacy\u001b[1;34m(recognizer, audio_data, key, language, pfilter, show_all, with_confidence, endpoint)\u001b[0m\n\u001b[0;32m    259\u001b[0m output_parser \u001b[38;5;241m=\u001b[39m OutputParser(\n\u001b[0;32m    260\u001b[0m     show_all\u001b[38;5;241m=\u001b[39mshow_all, with_confidence\u001b[38;5;241m=\u001b[39mwith_confidence\n\u001b[0;32m    261\u001b[0m )\n\u001b[1;32m--> 262\u001b[0m \u001b[38;5;28;01mreturn\u001b[39;00m output_parser\u001b[38;5;241m.\u001b[39mparse(response_text)\n",
      "File \u001b[1;32m~\\anaconda3\\Lib\\site-packages\\speech_recognition\\recognizers\\google.py:134\u001b[0m, in \u001b[0;36mOutputParser.parse\u001b[1;34m(self, response_text)\u001b[0m\n\u001b[0;32m    133\u001b[0m \u001b[38;5;28;01mdef\u001b[39;00m \u001b[38;5;21mparse\u001b[39m(\u001b[38;5;28mself\u001b[39m, response_text: \u001b[38;5;28mstr\u001b[39m):\n\u001b[1;32m--> 134\u001b[0m     actual_result \u001b[38;5;241m=\u001b[39m \u001b[38;5;28mself\u001b[39m\u001b[38;5;241m.\u001b[39mconvert_to_result(response_text)\n\u001b[0;32m    135\u001b[0m     \u001b[38;5;28;01mif\u001b[39;00m \u001b[38;5;28mself\u001b[39m\u001b[38;5;241m.\u001b[39mshow_all:\n",
      "File \u001b[1;32m~\\anaconda3\\Lib\\site-packages\\speech_recognition\\recognizers\\google.py:183\u001b[0m, in \u001b[0;36mOutputParser.convert_to_result\u001b[1;34m(response_text)\u001b[0m\n\u001b[0;32m    182\u001b[0m         \u001b[38;5;28;01mreturn\u001b[39;00m result[\u001b[38;5;241m0\u001b[39m]\n\u001b[1;32m--> 183\u001b[0m \u001b[38;5;28;01mraise\u001b[39;00m UnknownValueError()\n",
      "\u001b[1;31mUnknownValueError\u001b[0m: ",
      "\nDuring handling of the above exception, another exception occurred:\n",
      "\u001b[1;31mNameError\u001b[0m                                 Traceback (most recent call last)",
      "Cell \u001b[1;32mIn[38], line 8\u001b[0m\n\u001b[0;32m      6\u001b[0m     \u001b[38;5;28mprint\u001b[39m(\u001b[38;5;124m\"\u001b[39m\u001b[38;5;130;01m\\033\u001b[39;00m\u001b[38;5;124m[91m \u001b[39m\u001b[38;5;132;01m{}\u001b[39;00m\u001b[38;5;130;01m\\033\u001b[39;00m\u001b[38;5;124m[00m\u001b[39m\u001b[38;5;124m\"\u001b[39m \u001b[38;5;241m.\u001b[39mformat(\u001b[38;5;124m\"\u001b[39m\u001b[38;5;124mYOU SAID : \u001b[39m\u001b[38;5;124m\"\u001b[39m\u001b[38;5;241m+\u001b[39muser_response))\n\u001b[0;32m      7\u001b[0m \u001b[38;5;28;01mexcept\u001b[39;00m sr\u001b[38;5;241m.\u001b[39mUnknownValueError:\n\u001b[1;32m----> 8\u001b[0m     prYellow(\u001b[38;5;124m\"\u001b[39m\u001b[38;5;124mOops! Didn\u001b[39m\u001b[38;5;124m'\u001b[39m\u001b[38;5;124mt catch that\u001b[39m\u001b[38;5;124m\"\u001b[39m)\n\u001b[0;32m      9\u001b[0m     \u001b[38;5;28;01mpass\u001b[39;00m\n\u001b[0;32m     11\u001b[0m \u001b[38;5;66;03m#user_response = input()\u001b[39;00m\n\u001b[0;32m     12\u001b[0m \u001b[38;5;66;03m#user_response=user_response.lower()\u001b[39;00m\n",
      "\u001b[1;31mNameError\u001b[0m: name 'prYellow' is not defined"
     ]
    }
   ],
   "source": [
    "while(flag==True):\n",
    "    with sr.Microphone() as source:\n",
    "        audio= r.listen(source)\n",
    "    try:\n",
    "        user_response = format(r.recognize_google(audio))\n",
    "        print(\"\\033[91m {}\\033[00m\" .format(\"YOU SAID : \"+user_response))\n",
    "    except sr.UnknownValueError:\n",
    "        prYellow(\"Oops! Didn't catch that\")\n",
    "        pass\n",
    "    \n",
    "    #user_response = input()\n",
    "    #user_response=user_response.lower()\n",
    "    clas=classifier.classify(dialogue_act_features(user_response))\n",
    "    if(clas!='Bye'):\n",
    "        if(clas=='Emotion'):\n",
    "            flag=False\n",
    "            prYellow(\"Jarvis: You are welcome..\")\n",
    "        else:\n",
    "            if(greeting(user_response)!=None):\n",
    "                print(\"\\033[93m {}\\033[00m\" .format(\"Jarvis: \"+greeting(user_response)))\n",
    "            else:\n",
    "                print(\"\\033[93m {}\\033[00m\" .format(\"Jarvis: \",end=\"\"))\n",
    "                res=(response(user_response))\n",
    "                prYellow(res)\n",
    "                sent_tokens.remove(user_response)\n",
    "                tts = gTTS(res, 'en')\n",
    "                tts.save(file)\n",
    "                os.system(\"mpg123 \" + file)\n",
    "    else:\n",
    "        flag=False\n",
    "        prYellow(\"Jarvis: Bye! take care..\")"
   ]
  },
  {
   "cell_type": "code",
   "execution_count": null,
   "id": "9455871f-82c4-4d98-88eb-fcb21addfd61",
   "metadata": {},
   "outputs": [],
   "source": []
  }
 ],
 "metadata": {
  "kernelspec": {
   "display_name": "Python 3 (ipykernel)",
   "language": "python",
   "name": "python3"
  },
  "language_info": {
   "codemirror_mode": {
    "name": "ipython",
    "version": 3
   },
   "file_extension": ".py",
   "mimetype": "text/x-python",
   "name": "python",
   "nbconvert_exporter": "python",
   "pygments_lexer": "ipython3",
   "version": "3.12.7"
  }
 },
 "nbformat": 4,
 "nbformat_minor": 5
}
